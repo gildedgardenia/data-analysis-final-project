{
    "metadata": {
        "kernelspec": {
            "name": "python3",
            "display_name": "Python 3",
            "language": "python"
        },
        "language_info": {
            "name": "python",
            "version": "3.8.8",
            "mimetype": "text/x-python",
            "codemirror_mode": {
                "name": "ipython",
                "version": 3
            },
            "pygments_lexer": "ipython3",
            "nbconvert_exporter": "python",
            "file_extension": ".py"
        }
    },
    "nbformat_minor": 2,
    "nbformat": 4,
    "cells": [
        {
            "cell_type": "markdown",
            "source": [
                "# Checkpoint Three: Cleaning Data\n",
                "\n",
                "Now you are ready to clean your data. Before starting coding, provide the link to your dataset below.\n",
                "\n",
                "My dataset:\n",
                "\n",
                "Import the necessary libraries and create your dataframe(s)."
            ],
            "metadata": {
                "azdata_cell_guid": "26037d32-2047-4157-81ef-595916bd66a0"
            },
            "attachments": {}
        },
        {
            "cell_type": "code",
            "source": [
                "import pandas as pd\n",
                "import matplotlib.pyplot as plt\n",
                "import seaborn as sns\n",
                "import numpy as np\n",
                "\n",
                "sephora_df = pd.read_csv(\"sephora_website_dataset.csv\")\n",
                "\n",
                "print(sephora_df.info())"
            ],
            "metadata": {
                "azdata_cell_guid": "e8adef8e-d0f2-4640-a179-5997f11e82ca"
            },
            "outputs": [
                {
                    "name": "stdout",
                    "text": "<class 'pandas.core.frame.DataFrame'>\nRangeIndex: 9168 entries, 0 to 9167\nData columns (total 21 columns):\n #   Column                  Non-Null Count  Dtype  \n---  ------                  --------------  -----  \n 0   id                      9168 non-null   int64  \n 1   brand                   9168 non-null   object \n 2   category                9168 non-null   object \n 3   name                    9168 non-null   object \n 4   size                    9168 non-null   object \n 5   rating                  9168 non-null   float64\n 6   number_of_reviews       9168 non-null   int64  \n 7   love                    9168 non-null   int64  \n 8   price                   9168 non-null   float64\n 9   value_price             9168 non-null   float64\n 10  URL                     9168 non-null   object \n 11  MarketingFlags          9168 non-null   bool   \n 12  MarketingFlags_content  9168 non-null   object \n 13  options                 9168 non-null   object \n 14  details                 9168 non-null   object \n 15  how_to_use              9168 non-null   object \n 16  ingredients             9168 non-null   object \n 17  online_only             9168 non-null   int64  \n 18  exclusive               9168 non-null   int64  \n 19  limited_edition         9168 non-null   int64  \n 20  limited_time_offer      9168 non-null   int64  \ndtypes: bool(1), float64(3), int64(7), object(10)\nmemory usage: 1.4+ MB\nNone\n",
                    "output_type": "stream"
                }
            ],
            "execution_count": 46
        },
        {
            "cell_type": "markdown",
            "source": [
                "## Missing Data\n",
                "\n",
                "Test your dataset for missing data and handle it as needed. Make notes in the form of code comments as to your thought process."
            ],
            "metadata": {
                "azdata_cell_guid": "e172475a-c4ee-414a-8367-9965355dbba6"
            }
        },
        {
            "cell_type": "code",
            "source": [
                "# I can read the missing data percentage list more easily, so I am going to use that technique to look for missing data.sephora_df\n",
                "\n",
                "for col in sephora_df.columns:\n",
                "    pct_missing = np.mean(sephora_df[col].isnull())\n",
                "    print('{} - {}%'.format(col, round(pct_missing*100)))\n",
                "\n",
                "# There is no missing data, so I do not need to do anything further for this section."
            ],
            "metadata": {
                "azdata_cell_guid": "e1dc66ef-e471-4c27-92e7-ee878c106eba"
            },
            "outputs": [
                {
                    "name": "stdout",
                    "text": "id - 0%\nbrand - 0%\ncategory - 0%\nname - 0%\nsize - 0%\nrating - 0%\nnumber_of_reviews - 0%\nlove - 0%\nprice - 0%\nvalue_price - 0%\nURL - 0%\nMarketingFlags - 0%\nMarketingFlags_content - 0%\noptions - 0%\ndetails - 0%\nhow_to_use - 0%\ningredients - 0%\nonline_only - 0%\nexclusive - 0%\nlimited_edition - 0%\nlimited_time_offer - 0%\n",
                    "output_type": "stream"
                }
            ],
            "execution_count": 47
        },
        {
            "cell_type": "markdown",
            "source": [
                "## Irregular Data\n",
                "\n",
                "Detect outliers in your dataset and handle them as needed. Use code comments to make notes about your thought process."
            ],
            "metadata": {
                "azdata_cell_guid": "1233f543-e9a0-4f78-96f5-d7536554102e"
            }
        },
        {
            "cell_type": "code",
            "source": [
                "# In the EDA process, I explored the price column with visualizations and discovered some outliers. Want to use another method to see what those outliers might be. \n",
                "\n",
                "print(sephora_df['price'].describe())\n",
                "\n",
                "# I think to give an accurate analysis of price and deal with outliers such as high-priced tools and appliances. I am going to remove items where the size is not in ounces or mls.\n",
                "# Wondering how to handle items that don't have a listed size on the site, like hair appliances\n",
                "\n",
                "dryers_df = sephora_df[sephora_df['category'] == 'Hair Dryers']\n",
                "print(dryers_df['size'])\n",
                "\n",
                "# Some of the high-priced items on the site are hair appliances so I am removing items where the size is \"no size\".\n",
                "\n",
                "index_names = sephora_df[sephora_df['size'] == \"no size\"].index\n",
                "sephora_df.drop(index_names, inplace = True)\n",
                "\n",
                "print(sephora_df['price'].describe())\n",
                "\n",
                "# Investigating the size of other high-priced items like makeup brush sets.\n",
                "brush_sets_df = sephora_df[sephora_df['category'] == 'Brush Sets']\n",
                "print(brush_sets_df['size'])\n",
                "\n",
                "# Based on this result, I am going to remove any item left where the size listed does not include oz or mL or g.\n",
                "# That way prices will include items in comparable categories.\n",
                "\n",
                "search_values = ['oz', 'mL', 'g']\n",
                "sephora_cleaned_df = sephora_df[sephora_df['size'].str.contains('|'.join(search_values))]\n",
                "print(sephora_cleaned_df['price'].describe())\n",
                "print(sephora_cleaned_df['size'])\n",
                "\n",
                "# While there are still some high-priced items, I removed any item that did not have a size that could be measured in ounces, grams, and/or mililiters.\n",
                "# This way, we can still include luxury-priced items in our analysis and break them down by category. "
            ],
            "metadata": {
                "azdata_cell_guid": "efed50ae-16f0-471d-98e2-632553a74c12",
                "tags": []
            },
            "outputs": [
                {
                    "name": "stdout",
                    "text": "count    9168.000000\nmean       50.063237\nstd        47.164989\nmin         2.000000\n25%        24.000000\n50%        35.000000\n75%        59.000000\nmax       549.000000\nName: price, dtype: float64\n199            no size\n210            no size\n238            no size\n835            no size\n838            no size\n839            no size\n840            no size\n2049           no size\n2062           no size\n2529           no size\n2532           no size\n2539           no size\n2550           no size\n2593           no size\n2594           no size\n2595           no size\n2596           no size\n3148           no size\n3153           no size\n5660           no size\n7301    5.5\" x 3\" x 3\"\n7322           no size\n7840           no size\n7842           no size\n7846           no size\n7858           no size\nName: size, dtype: object\ncount    6007.000000\nmean       51.110316\nstd        44.786866\nmin         2.000000\n25%        25.000000\n50%        37.000000\n75%        60.000000\nmax       460.000000\nName: price, dtype: float64\n9146    5 Brushes\nName: size, dtype: object\ncount    5771.000000\nmean       52.021974\nstd        45.021032\nmin         2.000000\n25%        26.000000\n50%        38.000000\n75%        62.000000\nmax       460.000000\nName: price, dtype: float64\n0         5 x 0.16oz/5mL\n1          0.7 oz/ 20 mL\n2           5 oz/ 148 mL\n3          2.5 oz/ 74 mL\n4         5 x 0.16oz/5mL\n              ...       \n9159     6.76 oz/ 200 mL\n9160          0.53oz/15g\n9162        8.45oz/250mL\n9164    3 x 0.32 oz/ 9 g\n9165     0.946 oz/ 28 mL\nName: size, Length: 5771, dtype: object\n",
                    "output_type": "stream"
                }
            ],
            "execution_count": 48
        },
        {
            "cell_type": "markdown",
            "source": [
                "## Unnecessary Data\n",
                "\n",
                "Look for the different types of unnecessary data in your dataset and address it as needed. Make sure to use code comments to illustrate your thought process."
            ],
            "metadata": {
                "azdata_cell_guid": "6f5b8ee0-bab3-44bc-958a-67d1e4c0407f"
            }
        },
        {
            "cell_type": "code",
            "source": [
                "# In the EDA process, I discovered that some of the columns are redundant so I am going to remove these ones first.\n",
                "\n",
                "sephora_cleaned_df = sephora_cleaned_df.drop(columns=['MarketingFlags', 'MarketingFlags_content', 'URL', 'details', 'how_to_use', 'ingredients'])\n",
                "\n",
                "print(sephora_cleaned_df.info())"
            ],
            "metadata": {
                "azdata_cell_guid": "e788a239-2fbf-41de-9bd3-19e52e3b187c"
            },
            "outputs": [
                {
                    "name": "stdout",
                    "text": "<class 'pandas.core.frame.DataFrame'>\nInt64Index: 5771 entries, 0 to 9165\nData columns (total 15 columns):\n #   Column              Non-Null Count  Dtype  \n---  ------              --------------  -----  \n 0   id                  5771 non-null   int64  \n 1   brand               5771 non-null   object \n 2   category            5771 non-null   object \n 3   name                5771 non-null   object \n 4   size                5771 non-null   object \n 5   rating              5771 non-null   float64\n 6   number_of_reviews   5771 non-null   int64  \n 7   love                5771 non-null   int64  \n 8   price               5771 non-null   float64\n 9   value_price         5771 non-null   float64\n 10  options             5771 non-null   object \n 11  online_only         5771 non-null   int64  \n 12  exclusive           5771 non-null   int64  \n 13  limited_edition     5771 non-null   int64  \n 14  limited_time_offer  5771 non-null   int64  \ndtypes: float64(3), int64(7), object(5)\nmemory usage: 721.4+ KB\nNone\n",
                    "output_type": "stream"
                }
            ],
            "execution_count": 49
        },
        {
            "cell_type": "markdown",
            "source": [
                "## Inconsistent Data\n",
                "\n",
                "Check for inconsistent data and address any that arises. As always, use code comments to illustrate your thought process."
            ],
            "metadata": {
                "azdata_cell_guid": "53e0cf94-c68a-4fa0-9849-9505a66bcce6"
            }
        },
        {
            "cell_type": "code",
            "source": [
                "# First, some of the columns are using 1s and 0s as True and False, so I want to make sure there are only ones and zeros.sephora_cleaned_df\n",
                "\n",
                "print(sephora_cleaned_df['online_only'].value_counts())\n",
                "print(sephora_cleaned_df['exclusive'].value_counts())\n",
                "print(sephora_cleaned_df['limited_edition'].value_counts())\n",
                "print(sephora_cleaned_df['limited_time_offer'].value_counts())\n",
                "\n",
                "# No inconsistent data here!\n",
                "# Now on to the size column. I noticed that some items contained an 'x' in their size. Using the Sephora site to confirm, these items contain multiple items such as 5 mini fragrances.\n",
                "# I want to remove these sets to remove inconsistencies from the size column.\n",
                "\n",
                "sephora_cleaned_df = sephora_cleaned_df[~sephora_cleaned_df['size'].str.contains('x')]\n",
                "print(sephora_cleaned_df['size'])"
            ],
            "metadata": {
                "azdata_cell_guid": "e9de6624-812a-43f8-8e20-93b4a49b091f"
            },
            "outputs": [
                {
                    "name": "stdout",
                    "text": "0    4477\n1    1294\nName: online_only, dtype: int64\n0    4378\n1    1393\nName: exclusive, dtype: int64\n0    5485\n1     286\nName: limited_edition, dtype: int64\n0    5769\n1       2\nName: limited_time_offer, dtype: int64\n1         0.7 oz/ 20 mL\n2          5 oz/ 148 mL\n3         2.5 oz/ 74 mL\n5          5 oz/ 148 mL\n6        3.4 oz/ 101 mL\n             ...       \n9155    400 mL/ 13.5 oz\n9159    6.76 oz/ 200 mL\n9160         0.53oz/15g\n9162       8.45oz/250mL\n9165    0.946 oz/ 28 mL\nName: size, Length: 5534, dtype: object\n",
                    "output_type": "stream"
                }
            ],
            "execution_count": 50
        },
        {
            "cell_type": "markdown",
            "source": [
                "## Summarize Your Results\n",
                "\n",
                "Make note of your answers to the following questions.\n",
                "\n",
                "1. Did you find all four types of dirty data in your dataset? I did not! My dataset had no missing data.\n",
                "2. Did the process of cleaning your data give you new insights into your dataset? I learned that the size column had the most going on with different strings and formats. I also had to use the id numbers to search up products on the site and confirm what the size was of the product to figure out how to clean it. \n",
                "3. Is there anything you would like to make note of when it comes to manipulating the data and making visualizations? I will definitely have to group by category a lot to make the analysis effective!"
            ],
            "metadata": {
                "azdata_cell_guid": "dedc0bfe-17d0-40b2-914f-2ddb54f9ce0d"
            },
            "attachments": {}
        }
    ]
}