{
    "metadata": {
        "kernelspec": {
            "name": "python3",
            "display_name": "Python 3",
            "language": "python"
        },
        "language_info": {
            "name": "python",
            "version": "3.8.8",
            "mimetype": "text/x-python",
            "codemirror_mode": {
                "name": "ipython",
                "version": 3
            },
            "pygments_lexer": "ipython3",
            "nbconvert_exporter": "python",
            "file_extension": ".py"
        }
    },
    "nbformat_minor": 2,
    "nbformat": 4,
    "cells": [
        {
            "cell_type": "markdown",
            "source": [
                "# Checkpoint Two: Exploratory Data Analysis\n",
                "\n",
                "Now that your chosen dataset is approved, it is time to start working on your analysis. Use this notebook to perform your EDA and make notes where directed to as you work.\n",
                "\n",
                "## Getting Started\n",
                "\n",
                "Since we have not provided your dataset for you, you will need to load the necessary files in this repository. Make sure to include a link back to the original dataset here as well.\n",
                "\n",
                "My dataset: https://www.kaggle.com/raghadalharbi/all-products-available-on-sephora-website\n",
                "\n",
                "Your first task in EDA is to import necessary libraries and create a dataframe(s). Make note in the form of code comments of what your thought process as you work on this setup task."
            ],
            "metadata": {
                "azdata_cell_guid": "151601c9-ca7a-412e-af80-c62a87e0837e"
            },
            "attachments": {}
        },
        {
            "cell_type": "code",
            "source": [
                "import pandas as pd\n",
                "import matplotlib.pyplot as plt\n",
                "import seaborn as sns\n",
                "import numpy as np\n",
                "\n",
                "sephora_df = pd.read_csv(\"sephora_website_dataset.csv\")\n",
                "\n",
                "# Want to see if the dataframe was properly imported and see what kind of data is stored in each column.\n",
                "print(sephora_df.info())\n",
                "print(sephora_df.head())"
            ],
            "metadata": {
                "azdata_cell_guid": "7b503e37-6df5-4433-acfb-678b1346db14"
            },
            "outputs": [
                {
                    "name": "stdout",
                    "text": "<class 'pandas.core.frame.DataFrame'>\nRangeIndex: 9168 entries, 0 to 9167\nData columns (total 21 columns):\n #   Column                  Non-Null Count  Dtype  \n---  ------                  --------------  -----  \n 0   id                      9168 non-null   int64  \n 1   brand                   9168 non-null   object \n 2   category                9168 non-null   object \n 3   name                    9168 non-null   object \n 4   size                    9168 non-null   object \n 5   rating                  9168 non-null   float64\n 6   number_of_reviews       9168 non-null   int64  \n 7   love                    9168 non-null   int64  \n 8   price                   9168 non-null   float64\n 9   value_price             9168 non-null   float64\n 10  URL                     9168 non-null   object \n 11  MarketingFlags          9168 non-null   bool   \n 12  MarketingFlags_content  9168 non-null   object \n 13  options                 9168 non-null   object \n 14  details                 9168 non-null   object \n 15  how_to_use              9168 non-null   object \n 16  ingredients             9168 non-null   object \n 17  online_only             9168 non-null   int64  \n 18  exclusive               9168 non-null   int64  \n 19  limited_edition         9168 non-null   int64  \n 20  limited_time_offer      9168 non-null   int64  \ndtypes: bool(1), float64(3), int64(7), object(10)\nmemory usage: 1.4+ MB\nNone\n        id           brand   category                            name  \\\n0  2218774  Acqua Di Parma  Fragrance  Blu Mediterraneo MINIATURE Set   \n1  2044816  Acqua Di Parma    Cologne                         Colonia   \n2  1417567  Acqua Di Parma    Perfume                Arancia di Capri   \n3  1417617  Acqua Di Parma    Perfume                Mirto di Panarea   \n4  2218766  Acqua Di Parma  Fragrance           Colonia Miniature Set   \n\n             size  rating  number_of_reviews  love  price  value_price  ...  \\\n0  5 x 0.16oz/5mL     4.0                  4  3002   66.0         75.0  ...   \n1   0.7 oz/ 20 mL     4.5                 76  2700   66.0         66.0  ...   \n2    5 oz/ 148 mL     4.5                 26  2600  180.0        180.0  ...   \n3   2.5 oz/ 74 mL     4.5                 23  2900  120.0        120.0  ...   \n4  5 x 0.16oz/5mL     3.5                  2   943   72.0         80.0  ...   \n\n  MarketingFlags  MarketingFlags_content  \\\n0           True             online only   \n1           True             online only   \n2           True             online only   \n3           True             online only   \n4           True             online only   \n\n                                             options  \\\n0                                         no options   \n1   - 0.7 oz/ 20 mL  Spray  - 1.7 oz/ 50 mL Eau d...   \n2   - 1oz/30mL Eau de Toilette  - 2.5 oz/ 74 mL E...   \n3   - 1 oz/ 30 mL Eau de Toilette Spray - 2.5 oz/...   \n4                                         no options   \n\n                                             details  \\\n0  This enchanting set comes in a specially handc...   \n1  An elegant timeless scent filled with a fresh-...   \n2  Fragrance Family: Fresh Scent Type: Fresh Citr...   \n3  Panarea near Sicily is an an island suspended ...   \n4  The Colonia Miniature Set comes in an iconic A...   \n\n                                          how_to_use  \\\n0  Suggested Usage:-Fragrance is intensified by t...   \n1                                    no instructions   \n2                                    no instructions   \n3                                    no instructions   \n4  Suggested Usage:-Fragrance is intensified by t...   \n\n                                         ingredients online_only  exclusive  \\\n0  Arancia di Capri Eau de Toilette: Alcohol Dena...           1          0   \n1                                            unknown           1          0   \n2  Alcohol Denat.- Water- Fragrance- Limonene- Li...           1          0   \n3                                            unknown           1          0   \n4  Colonia: Alcohol Denat.- Water- Fragrance- Lim...           1          0   \n\n   limited_edition  limited_time_offer  \n0                0                   0  \n1                0                   0  \n2                0                   0  \n3                0                   0  \n4                0                   0  \n\n[5 rows x 21 columns]\n                 id       rating  number_of_reviews          love  \\\ncount  9.168000e+03  9168.000000        9168.000000  9.168000e+03   \nmean   1.962952e+06     3.990020         282.139180  1.627859e+04   \nstd    3.859714e+05     1.007707         890.642028  4.260651e+04   \nmin    5.000000e+01     0.000000           0.000000  0.000000e+00   \n25%    1.819453e+06     4.000000          10.000000  1.600000e+03   \n50%    2.072354e+06     4.000000          46.000000  4.800000e+03   \n75%    2.230591e+06     4.500000         210.000000  1.380000e+04   \nmax    2.359685e+06     5.000000       19000.000000  1.300000e+06   \n\n             price  value_price  online_only    exclusive  limited_edition  \\\ncount  9168.000000   9168.00000  9168.000000  9168.000000      9168.000000   \nmean     50.063237     51.82359     0.234839     0.264725         0.091841   \nstd      47.164989     49.45902     0.423921     0.441211         0.288817   \nmin       2.000000      2.00000     0.000000     0.000000         0.000000   \n25%      24.000000     25.00000     0.000000     0.000000         0.000000   \n50%      35.000000     35.00000     0.000000     0.000000         0.000000   \n75%      59.000000     60.00000     0.000000     1.000000         0.000000   \nmax     549.000000    549.00000     1.000000     1.000000         1.000000   \n\n       limited_time_offer  \ncount         9168.000000  \nmean             0.000327  \nstd              0.018087  \nmin              0.000000  \n25%              0.000000  \n50%              0.000000  \n75%              0.000000  \nmax              1.000000  \n",
                    "output_type": "stream"
                }
            ],
            "execution_count": 8
        },
        {
            "cell_type": "markdown",
            "source": [
                "## Get to Know the Numbers\n",
                "\n",
                "Now that you have everything setup, put any code that you use to get to know the dataframe and its rows and columns better in the cell below. You can use whatever techniques you like, except for visualizations. You will put those in a separate section.\n",
                "\n",
                "When working on your code, make sure to leave comments so that your mentors can understand your thought process."
            ],
            "metadata": {
                "azdata_cell_guid": "129ce836-524b-4ea8-b394-a959f9308d6a"
            },
            "attachments": {}
        },
        {
            "cell_type": "code",
            "source": [
                "# Want to run some summary statistics\n",
                "print(sephora_df.describe())\n",
                "\n",
                "# Curious about what is in MarketingFlags_content and is there a difference between that and the columns that are named exclusive, online_only, etc.\n",
                "print(sephora_df['MarketingFlags_content'].value_counts())\n",
                "print(sephora_df['exclusive'].value_counts())\n",
                "\n",
                "# Can't see what the URL is and what to determine if id is related to it as a result. Looks like id is not in the URL, but if I search that id on the sephora site, it is referenced as the SKU id.\n",
                "print(sephora_df['URL'][1])\n",
                "\n",
                "# Wondering what all the categories are.\n",
                "print(sephora_df['category'].value_counts())"
            ],
            "metadata": {
                "azdata_cell_guid": "0ca2d318-f6e8-43ef-a33e-5304d24d928d",
                "tags": []
            },
            "outputs": [
                {
                    "name": "stdout",
                    "text": "                 id       rating  number_of_reviews          love  \\\ncount  9.168000e+03  9168.000000        9168.000000  9.168000e+03   \nmean   1.962952e+06     3.990020         282.139180  1.627859e+04   \nstd    3.859714e+05     1.007707         890.642028  4.260651e+04   \nmin    5.000000e+01     0.000000           0.000000  0.000000e+00   \n25%    1.819453e+06     4.000000          10.000000  1.600000e+03   \n50%    2.072354e+06     4.000000          46.000000  4.800000e+03   \n75%    2.230591e+06     4.500000         210.000000  1.380000e+04   \nmax    2.359685e+06     5.000000       19000.000000  1.300000e+06   \n\n             price  value_price  online_only    exclusive  limited_edition  \\\ncount  9168.000000   9168.00000  9168.000000  9168.000000      9168.000000   \nmean     50.063237     51.82359     0.234839     0.264725         0.091841   \nstd      47.164989     49.45902     0.423921     0.441211         0.288817   \nmin       2.000000      2.00000     0.000000     0.000000         0.000000   \n25%      24.000000     25.00000     0.000000     0.000000         0.000000   \n50%      35.000000     35.00000     0.000000     0.000000         0.000000   \n75%      59.000000     60.00000     0.000000     1.000000         0.000000   \nmax     549.000000    549.00000     1.000000     1.000000         1.000000   \n\n       limited_time_offer  \ncount         9168.000000  \nmean             0.000327  \nstd              0.018087  \nmin              0.000000  \n25%              0.000000  \n50%              0.000000  \n75%              0.000000  \nmax              1.000000  \n0                                                   4786\nexclusive                                           1692\nonline only                                         1528\nexclusive · online only                              318\nlimited edition · exclusive                          297\nlimited edition                                      237\nlimited edition · online only                        188\nlimited edition · exclusive · online only            119\nlimited time offer                                     2\nlimited time offer · limited edition · exclusive       1\nName: MarketingFlags_content, dtype: int64\n0    6741\n1    2427\nName: exclusive, dtype: int64\nhttps://www.sephora.com/product/colonia-P163604?icid2=products grid:p163604\nPerfume                      665\nMoisturizers                 451\nFace Serums                  384\nValue & Gift Sets            378\nFace Wash & Cleansers        247\n                            ... \nWellness                       1\nCurls & Coils                  1\nAccessories                    1\nPowder Brush                   1\nHair Styling & Treatments      1\nName: category, Length: 143, dtype: int64\n",
                    "output_type": "stream"
                }
            ],
            "execution_count": 19
        },
        {
            "cell_type": "markdown",
            "source": [
                "## Visualize\n",
                "\n",
                "Create any visualizations for your EDA here. Make note in the form of code comments of what your thought process is for your visualizations."
            ],
            "metadata": {
                "azdata_cell_guid": "d45060f3-97bc-484a-9ef4-66145bbe9427"
            },
            "attachments": {}
        },
        {
            "cell_type": "code",
            "source": [
                "# Want to see where the distribution of products' prices.\n",
                "sns.histplot(sephora_df['price'], color='red')\n",
                "plt.show()"
            ],
            "metadata": {
                "azdata_cell_guid": "f4565b03-759a-47a8-b58f-01b32a0b4b67"
            },
            "outputs": [
                {
                    "data": {
                        "text/plain": "<Figure size 432x288 with 1 Axes>",
                        "image/png": "[encoded data removed]"
                    },
                    "metadata": {
                        "needs_background": "light"
                    },
                    "output_type": "display_data"
                }
            ],
            "execution_count": 13
        },
        {
            "cell_type": "code",
            "source": [
                "# Wondering if the value_price column will look roughly the same when it comes to distribution.\n",
                "sns.histplot(sephora_df['value_price'], color='blue')\n",
                "plt.show()"
            ],
            "metadata": {
                "azdata_cell_guid": "cd64bab1-db4c-4295-820d-c6464b653a3e"
            },
            "outputs": [
                {
                    "data": {
                        "text/plain": "<Figure size 432x288 with 1 Axes>",
                        "image/png": "[encoded data removed]"
                    },
                    "metadata": {
                        "needs_background": "light"
                    },
                    "output_type": "display_data"
                }
            ],
            "execution_count": 14
        },
        {
            "cell_type": "markdown",
            "source": [
                "## Summarize Your Results\n",
                "\n",
                "With your EDA complete, answer the following questions.\n",
                "\n",
                "1. Was there anything surprising about your dataset? I was surprised by the amount of information with each product. The dataset author included the full product description and full ingredient list.\n",
                "2. Do you have any concerns about your dataset? I think there is a lot of irrelevant information about each product as a result. Also the wide range of prices could cause some issues. I might have to split up the dataset later to get a more accurate analysis on what is going on in different categories.\n",
                "3. Is there anything you want to make note of for the next phase of your analysis, which is cleaning data? There aren't any null values but I might have to clean out a lot of irrelevant data."
            ],
            "metadata": {
                "azdata_cell_guid": "d4931c0c-2c09-4ee1-95d4-73dd08c2f0a6"
            }
        }
    ]
}