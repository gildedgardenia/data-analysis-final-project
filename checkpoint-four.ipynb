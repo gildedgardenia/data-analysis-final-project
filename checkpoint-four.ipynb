{
    "metadata": {
        "kernelspec": {
            "name": "python3",
            "display_name": "Python 3",
            "language": "python"
        },
        "language_info": {
            "name": "python",
            "version": "3.8.8",
            "mimetype": "text/x-python",
            "codemirror_mode": {
                "name": "ipython",
                "version": 3
            },
            "pygments_lexer": "ipython3",
            "nbconvert_exporter": "python",
            "file_extension": ".py"
        }
    },
    "nbformat_minor": 2,
    "nbformat": 4,
    "cells": [
        {
            "cell_type": "markdown",
            "source": [
                "This is my notebook for Checkpoint 4 of my final project."
            ],
            "metadata": {
                "azdata_cell_guid": "8ffa7736-124b-417a-91ae-8dd3ea91334c"
            },
            "attachments": {}
        },
        {
            "cell_type": "code",
            "source": [
                "# First, I need to import some libraries and make a dataframe.\n",
                "\n",
                "import pandas as pd\n",
                "import matplotlib.pyplot as plt\n",
                "import seaborn as sns\n",
                "import numpy as np\n",
                "\n",
                "sephora_df = pd.read_csv(\"sephora_cleaned_dataset.csv\")\n",
                "\n",
                "print(sephora_df.info())"
            ],
            "metadata": {
                "azdata_cell_guid": "50a764e6-6765-45fb-bd5f-c380742d2269",
                "tags": []
            },
            "outputs": [
                {
                    "output_type": "stream",
                    "name": "stdout",
                    "text": "<class 'pandas.core.frame.DataFrame'>\nRangeIndex: 5534 entries, 0 to 5533\nData columns (total 16 columns):\n #   Column              Non-Null Count  Dtype  \n---  ------              --------------  -----  \n 0   Unnamed: 0          5534 non-null   int64  \n 1   id                  5534 non-null   int64  \n 2   brand               5534 non-null   object \n 3   category            5534 non-null   object \n 4   name                5534 non-null   object \n 5   size                5534 non-null   object \n 6   rating              5534 non-null   float64\n 7   number_of_reviews   5534 non-null   int64  \n 8   love                5534 non-null   int64  \n 9   price               5534 non-null   float64\n 10  value_price         5534 non-null   float64\n 11  options             5534 non-null   object \n 12  online_only         5534 non-null   int64  \n 13  exclusive           5534 non-null   int64  \n 14  limited_edition     5534 non-null   int64  \n 15  limited_time_offer  5534 non-null   int64  \ndtypes: float64(3), int64(8), object(5)\nmemory usage: 691.9+ KB\nNone\n"
                }
            ],
            "execution_count": 89
        },
        {
            "cell_type": "code",
            "source": [
                "# I want a separate column to see the percentage discount that value items have.\n",
                "\n",
                "sephora_df[\"discount\"] = (sephora_df['value_price'] - sephora_df['price'])/sephora_df['value_price'] * 100\n",
                "print(sephora_df['discount'].value_counts())"
            ],
            "metadata": {
                "azdata_cell_guid": "6b9d330d-0fbe-459d-95ee-2942aaf642e4"
            },
            "outputs": [
                {
                    "output_type": "stream",
                    "name": "stdout",
                    "text": "0.000000     5514\n36.363636       2\n30.588235       2\n16.666667       2\n26.666667       1\n27.710843       1\n33.333333       1\n42.000000       1\n27.215190       1\n31.395349       1\n30.000000       1\n11.111111       1\n5.555556        1\n24.342105       1\n28.571429       1\n18.750000       1\n21.518987       1\n18.803419       1\nName: discount, dtype: int64\n"
                }
            ],
            "execution_count": 90
        },
        {
            "cell_type": "code",
            "source": [
                "# I want to do some visualizations with size, but size is currently stored as a string so I need to make corresponding numeric columns.\n",
                "\n",
                "sephora_df2 = sephora_df\n",
                "grams = []\n",
                "mililiters = []\n",
                "mLprice = []\n",
                "gprice = []\n",
                "\n",
                "for index, row in sephora_df.iterrows():\n",
                "    result_row = row['size'].lower()\n",
                "    result_row = result_row.replace(' ', '')\n",
                "    # print(result_row)\n",
                "    if 'ml' in result_row:\n",
                "        grams.append(0.0)\n",
                "        gprice.append(0.0)\n",
                "        result_list = result_row.split('/')\n",
                "        # print(result_list)\n",
                "        if len(result_list) == 2:\n",
                "            result_list2 = result_list[1].split('m')\n",
                "            # print(result_list2)\n",
                "            if result_list2[0].replace('.', '', 1).isdigit():\n",
                "                mililiters.append(float(result_list2[0]))\n",
                "                mLprice.append(row['price']/float(result_list2[0]))\n",
                "                # print(result_row, 0, float(result_list2[0]))\n",
                "            elif result_list2[0].isdigit():\n",
                "                mililiters.append(float(result_list2[0]))\n",
                "                mLprice.append(row['price']/float(result_list2[0]))\n",
                "                # print(result_row, 0, result_list2)\n",
                "            else:\n",
                "                mililiters.append(0.0)\n",
                "                mLprice.append(0.0)\n",
                "                # print(result_row, 'STOP')\n",
                "        else:\n",
                "            mililiters.append(0.0)\n",
                "            mLprice.append(0.0)\n",
                "    elif 'g' in result_row:\n",
                "        mililiters.append(0.0)\n",
                "        mLprice.append(0.0)\n",
                "        result_list = result_row.split('/')\n",
                "        if len(result_list) == 2:\n",
                "            result_list2 = result_list[1].split('g')\n",
                "            if result_list2[0].replace('.', '', 1).isdigit():\n",
                "                grams.append(float(result_list2[0]))\n",
                "                gprice.append(row['price']/float(result_list2[0]))\n",
                "                # print(result_row, 0, float(result_list2[0]))\n",
                "            elif result_list2[0].isdigit():\n",
                "                grams.append(float(result_list2[0]))\n",
                "                gprice.append(row['price']/float(result_list2[0]))\n",
                "                # print(result_row, 0, result_list2)\n",
                "            else:\n",
                "                grams.append(0.0)\n",
                "                gprice.append(0.0)\n",
                "        else:\n",
                "            grams.append(0.0)\n",
                "            gprice.append(0.0)\n",
                "    else:\n",
                "        grams.append(0.0)\n",
                "        mililiters.append(0.0)\n",
                "        gprice.append(0.0)\n",
                "        mLprice.append(0.0)\n",
                "\n",
                "sephora_df2['g'] = grams\n",
                "sephora_df2['mL'] = mililiters\n",
                "sephora_df2['dollarpermL'] = mLprice\n",
                "sephora_df2['dollarperg'] = gprice\n",
                "\n",
                "print(sephora_df2.info())\n",
                "\n",
                "index_names = sephora_df2[(sephora_df2['g'] == 0.0) & (sephora_df2['mL'] == 0.0)].index\n",
                "sephora_df2.drop(index_names, inplace = True)\n",
                "\n",
                "print(sephora_df2.info())\n",
                "sephora_df2.to_csv('sephora-dataset.csv')"
            ],
            "metadata": {
                "azdata_cell_guid": "1d4d018d-1f82-4d58-809b-12dd4b82a6b3"
            },
            "outputs": [
                {
                    "output_type": "stream",
                    "name": "stdout",
                    "text": "<class 'pandas.core.frame.DataFrame'>\nRangeIndex: 5534 entries, 0 to 5533\nData columns (total 21 columns):\n #   Column              Non-Null Count  Dtype  \n---  ------              --------------  -----  \n 0   Unnamed: 0          5534 non-null   int64  \n 1   id                  5534 non-null   int64  \n 2   brand               5534 non-null   object \n 3   category            5534 non-null   object \n 4   name                5534 non-null   object \n 5   size                5534 non-null   object \n 6   rating              5534 non-null   float64\n 7   number_of_reviews   5534 non-null   int64  \n 8   love                5534 non-null   int64  \n 9   price               5534 non-null   float64\n 10  value_price         5534 non-null   float64\n 11  options             5534 non-null   object \n 12  online_only         5534 non-null   int64  \n 13  exclusive           5534 non-null   int64  \n 14  limited_edition     5534 non-null   int64  \n 15  limited_time_offer  5534 non-null   int64  \n 16  discount            5534 non-null   float64\n 17  g                   5534 non-null   float64\n 18  mL                  5534 non-null   float64\n 19  dollarpermL         5534 non-null   float64\n 20  dollarperg          5534 non-null   float64\ndtypes: float64(8), int64(8), object(5)\nmemory usage: 908.0+ KB\nNone\n<class 'pandas.core.frame.DataFrame'>\nInt64Index: 5039 entries, 0 to 5533\nData columns (total 21 columns):\n #   Column              Non-Null Count  Dtype  \n---  ------              --------------  -----  \n 0   Unnamed: 0          5039 non-null   int64  \n 1   id                  5039 non-null   int64  \n 2   brand               5039 non-null   object \n 3   category            5039 non-null   object \n 4   name                5039 non-null   object \n 5   size                5039 non-null   object \n 6   rating              5039 non-null   float64\n 7   number_of_reviews   5039 non-null   int64  \n 8   love                5039 non-null   int64  \n 9   price               5039 non-null   float64\n 10  value_price         5039 non-null   float64\n 11  options             5039 non-null   object \n 12  online_only         5039 non-null   int64  \n 13  exclusive           5039 non-null   int64  \n 14  limited_edition     5039 non-null   int64  \n 15  limited_time_offer  5039 non-null   int64  \n 16  discount            5039 non-null   float64\n 17  g                   5039 non-null   float64\n 18  mL                  5039 non-null   float64\n 19  dollarpermL         5039 non-null   float64\n 20  dollarperg          5039 non-null   float64\ndtypes: float64(8), int64(8), object(5)\nmemory usage: 866.1+ KB\nNone\n"
                }
            ],
            "execution_count": 91
        }
    ]
}